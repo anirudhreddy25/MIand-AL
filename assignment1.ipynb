{
 "cells": [
  {
   "cell_type": "code",
   "execution_count": 1,
   "metadata": {},
   "outputs": [
    {
     "name": "stdout",
     "output_type": "stream",
     "text": [
      "25\n",
      "The equivalent binary number is 11001\n"
     ]
    }
   ],
   "source": [
    "def dtob(n):\n",
    "    x=bin(n)\n",
    "    x=x[2:]\n",
    "    print(\"The equivalent binary number is\",x)\n",
    "y=int(input())\n",
    "dtob(y)"
   ]
  },
  {
   "cell_type": "code",
   "execution_count": 2,
   "metadata": {},
   "outputs": [
    {
     "name": "stdout",
     "output_type": "stream",
     "text": [
      "6\n",
      "0\n",
      "1\n",
      "1\n",
      "2\n",
      "3\n",
      "5\n"
     ]
    }
   ],
   "source": [
    "n = int(input())\n",
    "n1 = 0\n",
    "n2 = 1\n",
    "c = 0\n",
    "if n<0:\n",
    "    print(\"enter a positive number\")\n",
    "elif n == 0:\n",
    "    print(n1)\n",
    "else:\n",
    "    while (c < n):\n",
    "        print(n1)\n",
    "        nth = n1 + n2\n",
    "        n1=n2\n",
    "        n2 = nth\n",
    "        c += 1\n"
   ]
  },
  {
   "cell_type": "code",
   "execution_count": 9,
   "metadata": {},
   "outputs": [
    {
     "name": "stdout",
     "output_type": "stream",
     "text": [
      "enter no of rows5\n",
      "* \n",
      "* * \n",
      "* * * \n",
      "* * * * \n",
      "* * * * * \n"
     ]
    }
   ],
   "source": [
    "n=int(input(\"enter no of rows\"))\n",
    "row=0\n",
    "while row<n:\n",
    "    star= row+1\n",
    "    while star>0:\n",
    "        print(\"*\",end=\" \")\n",
    "        star = star - 1\n",
    "    row=row+1\n",
    "    print()"
   ]
  },
  {
   "cell_type": "code",
   "execution_count": 10,
   "metadata": {},
   "outputs": [
    {
     "name": "stdout",
     "output_type": "stream",
     "text": [
      "Enter the value of a4\n",
      "Enter the value of b7\n",
      "Enter the value of c9\n",
      "No Roots\n"
     ]
    }
   ],
   "source": [
    "a=int(input(\"Enter the value of a\"))\n",
    "b=int(input(\"Enter the value of b\"))\n",
    "c=int(input(\"Enter the value of c\"))\n",
    "r= (b * b) - ( 4 * a * c)\n",
    "if r > 0:\n",
    "    x1=(((-b) + sqrt(r)/(2*a) ))\n",
    "    x2=(((-b) - sqrt(r)/(2*a) ))\n",
    "    print(\"The roots are\",x1,x2)\n",
    "elif r == 0:\n",
    "    x=(-b)/(2*a)\n",
    "    print(\"The root is \",x)\n",
    "else:\n",
    "    print(\"No Roots\")\n"
   ]
  },
  {
   "cell_type": "code",
   "execution_count": 11,
   "metadata": {},
   "outputs": [
    {
     "name": "stdout",
     "output_type": "stream",
     "text": [
      "Enter a number44\n",
      "44 x 1 = 44\n",
      "44 x 2 = 88\n",
      "44 x 3 = 132\n",
      "44 x 4 = 176\n",
      "44 x 5 = 220\n",
      "44 x 6 = 264\n",
      "44 x 7 = 308\n",
      "44 x 8 = 352\n",
      "44 x 9 = 396\n",
      "44 x 10 = 440\n"
     ]
    }
   ],
   "source": [
    "k = int(input(\"Enter a number\"))\n",
    "for i in range(1,11):\n",
    "    print(k,\"x\",i,\"=\", k * i)\n",
    "\n",
    "\n",
    "    "
   ]
  }
 ],
 "metadata": {
  "kernelspec": {
   "display_name": "Python 3",
   "language": "python",
   "name": "python3"
  },
  "language_info": {
   "codemirror_mode": {
    "name": "ipython",
    "version": 3
   },
   "file_extension": ".py",
   "mimetype": "text/x-python",
   "name": "python",
   "nbconvert_exporter": "python",
   "pygments_lexer": "ipython3",
   "version": "3.7.3"
  }
 },
 "nbformat": 4,
 "nbformat_minor": 2
}
